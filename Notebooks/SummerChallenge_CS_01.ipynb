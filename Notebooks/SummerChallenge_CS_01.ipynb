{
 "cells": [
  {
   "cell_type": "markdown",
   "id": "30722238",
   "metadata": {},
   "source": [
    "## BU Summer Challenge: Computer Science [July 2024]\n",
    "### Notebook 01"
   ]
  },
  {
   "cell_type": "code",
   "execution_count": 1,
   "id": "c04e61a2",
   "metadata": {},
   "outputs": [
    {
     "name": "stdout",
     "output_type": "stream",
     "text": [
      "Hello World!\n"
     ]
    }
   ],
   "source": [
    "print(\"Hello World!\")"
   ]
  },
  {
   "cell_type": "markdown",
   "id": "1dae8fa1",
   "metadata": {},
   "source": [
    "### Data Types and Variables in Python\n",
    "1. A variable is simply a container for storing a data value.\n",
    "2. Python has several data types: we will focus on the following data types. \n",
    "    - `int`: This is a data type used to represent integer information\n",
    "    - `string`: String data types represent characters\n",
    "    - `float`: Represent decimal values\n",
    "3. Python can automatically infer the data type based on the input. We can also specify the data types explicitly.\n",
    "4. The data type of a variable can be accessed using the `type()` command."
   ]
  },
  {
   "cell_type": "markdown",
   "id": "36f500c5",
   "metadata": {},
   "source": [
    "#### Here is one way of specifying variables with their data types"
   ]
  },
  {
   "cell_type": "code",
   "execution_count": 1,
   "id": "b224609f",
   "metadata": {},
   "outputs": [],
   "source": [
    "my_name = str('Karan Vombatkere')\n",
    "my_age = int(28)\n",
    "temp = float(73.2)"
   ]
  },
  {
   "cell_type": "code",
   "execution_count": 3,
   "id": "cf1ad487",
   "metadata": {},
   "outputs": [
    {
     "name": "stdout",
     "output_type": "stream",
     "text": [
      "Hello there!\n",
      "My name is: Karan Vombatkere\n",
      "My Age is 28\n",
      "The temperature is 73.2 degrees\n"
     ]
    }
   ],
   "source": [
    "print(\"Hello there!\\nMy name is: {}\\nMy Age is {}\\nThe temperature is {} degrees\".format(my_name,\n",
    "                                                                      my_age,\n",
    "                                                                      temp))"
   ]
  },
  {
   "cell_type": "markdown",
   "id": "3df8a6bd",
   "metadata": {},
   "source": [
    "#### Python can also directly infer the data type based on the input provided"
   ]
  },
  {
   "cell_type": "code",
   "execution_count": 4,
   "id": "27a6b392",
   "metadata": {},
   "outputs": [],
   "source": [
    "my_name_2 = 'Karan Vombatkere'\n",
    "my_age_2 = 28\n",
    "temp_2 = 74.5"
   ]
  },
  {
   "cell_type": "code",
   "execution_count": 5,
   "id": "72bdcb0c",
   "metadata": {},
   "outputs": [
    {
     "name": "stdout",
     "output_type": "stream",
     "text": [
      "Hello there!\n",
      "My name is: Karan Vombatkere\n",
      "My Age is 28\n",
      "The temperature is 74.5 degrees\n"
     ]
    }
   ],
   "source": [
    "print(\"Hello there!\\nMy name is: {}\\nMy Age is {}\\nThe temperature is {} degrees\".format(my_name_2,\n",
    "                                                                      my_age_2,\n",
    "                                                                      temp_2))"
   ]
  },
  {
   "cell_type": "code",
   "execution_count": 6,
   "id": "602b97a8",
   "metadata": {},
   "outputs": [
    {
     "data": {
      "text/plain": [
       "str"
      ]
     },
     "execution_count": 6,
     "metadata": {},
     "output_type": "execute_result"
    }
   ],
   "source": [
    "type(my_name)"
   ]
  },
  {
   "cell_type": "code",
   "execution_count": 7,
   "id": "703bbb10",
   "metadata": {},
   "outputs": [
    {
     "name": "stdout",
     "output_type": "stream",
     "text": [
      "<class 'int'> <class 'float'>\n"
     ]
    }
   ],
   "source": [
    "print(type(my_age), type(temp))"
   ]
  },
  {
   "cell_type": "markdown",
   "id": "0af4427c",
   "metadata": {},
   "source": [
    "### Operations on Variables"
   ]
  },
  {
   "cell_type": "code",
   "execution_count": 8,
   "id": "a581661c",
   "metadata": {},
   "outputs": [
    {
     "data": {
      "text/plain": [
       "True"
      ]
     },
     "execution_count": 8,
     "metadata": {},
     "output_type": "execute_result"
    }
   ],
   "source": [
    "my_name == my_name_2"
   ]
  },
  {
   "cell_type": "code",
   "execution_count": 9,
   "id": "9981f816",
   "metadata": {},
   "outputs": [
    {
     "data": {
      "text/plain": [
       "False"
      ]
     },
     "execution_count": 9,
     "metadata": {},
     "output_type": "execute_result"
    }
   ],
   "source": [
    "temp == temp_2"
   ]
  },
  {
   "cell_type": "code",
   "execution_count": 10,
   "id": "aff00b57",
   "metadata": {},
   "outputs": [
    {
     "data": {
      "text/plain": [
       "60"
      ]
     },
     "execution_count": 10,
     "metadata": {},
     "output_type": "execute_result"
    }
   ],
   "source": [
    "my_age*2 + 4"
   ]
  },
  {
   "cell_type": "code",
   "execution_count": 11,
   "id": "5c12335a",
   "metadata": {},
   "outputs": [
    {
     "name": "stdout",
     "output_type": "stream",
     "text": [
      "The variable my_age has type <class 'int'>\n",
      "The variable my_name has type <class 'str'>\n"
     ]
    }
   ],
   "source": [
    "print(\"The variable my_age has type\", type(my_age))\n",
    "print(\"The variable my_name has type\", type(my_name))"
   ]
  },
  {
   "cell_type": "code",
   "execution_count": 12,
   "id": "aa2c166a",
   "metadata": {},
   "outputs": [
    {
     "name": "stdout",
     "output_type": "stream",
     "text": [
      "a=42, b=37\n",
      "42 + 37 = 79\n"
     ]
    }
   ],
   "source": [
    "# The '#' symbol can be used to add helpful comments to code\n",
    "# a and b are integer variables\n",
    "a = 42 \n",
    "b = 37\n",
    "\n",
    "c = a+b\n",
    "\n",
    "print(\"a={}, b={}\".format(a,b))\n",
    "print(\"{} + {} = {}\".format(a,b,c))"
   ]
  },
  {
   "cell_type": "code",
   "execution_count": 13,
   "id": "8b46ee7d",
   "metadata": {},
   "outputs": [
    {
     "data": {
      "text/plain": [
       "int"
      ]
     },
     "execution_count": 13,
     "metadata": {},
     "output_type": "execute_result"
    }
   ],
   "source": [
    "type(c)"
   ]
  },
  {
   "cell_type": "code",
   "execution_count": 14,
   "id": "75acd8b3",
   "metadata": {},
   "outputs": [
    {
     "data": {
      "text/plain": [
       "float"
      ]
     },
     "execution_count": 14,
     "metadata": {},
     "output_type": "execute_result"
    }
   ],
   "source": [
    "d = 45.3\n",
    "e = 23\n",
    "type(e+d)"
   ]
  },
  {
   "cell_type": "markdown",
   "id": "e19ce44e",
   "metadata": {},
   "source": [
    "### Exercise - Data Types and Variables\n",
    "1. Create three variables named `school_name`, `class_year` and `gpa` and store values in them\n",
    "2. Print out these 3 variables and their types\n",
    "3. Create 3 variable `v1, v2, v3` and store `float` values in them\n",
    "4. Calculate `v4 = v1 + v2 - v3`, and print the result"
   ]
  },
  {
   "cell_type": "code",
   "execution_count": null,
   "id": "f5c9e1b4",
   "metadata": {},
   "outputs": [],
   "source": []
  },
  {
   "cell_type": "code",
   "execution_count": null,
   "id": "563d0990",
   "metadata": {},
   "outputs": [],
   "source": []
  },
  {
   "cell_type": "code",
   "execution_count": null,
   "id": "70e6f27b",
   "metadata": {},
   "outputs": [],
   "source": []
  },
  {
   "cell_type": "markdown",
   "id": "3b23b42c",
   "metadata": {},
   "source": [
    "### Lists and Tuples\n",
    "- We will learn how to create lists in Python\n",
    "    - Python lists can have any data types, and can also be a mix of data types or have lists within!\n",
    "- The `sorted` command can be used to sort the elements of a list\n",
    "- The `len` command can be used to calculate the length (or number of elements) in a list\n",
    "- The `append` command can be used to add items to the end of a list - this is done in place\n",
    "- The `reverse` command can be used to reverse a list - this is done in place\n",
    "- Items in a list can be accessed using their index\n",
    "    - Python is 0 indexed! This means that the first element in a list has index = 0"
   ]
  },
  {
   "cell_type": "code",
   "execution_count": 15,
   "id": "adea42ae",
   "metadata": {},
   "outputs": [
    {
     "name": "stdout",
     "output_type": "stream",
     "text": [
      "['Dog', 'Leaf', 'Tree', 'Cat', 'Airplane']\n"
     ]
    }
   ],
   "source": [
    "item_list = ['Dog', 'Leaf', 'Tree', 'Cat', 'Airplane']\n",
    "print(item_list)"
   ]
  },
  {
   "cell_type": "code",
   "execution_count": 16,
   "id": "8481ac06",
   "metadata": {},
   "outputs": [
    {
     "name": "stdout",
     "output_type": "stream",
     "text": [
      "The list has 5 items\n"
     ]
    }
   ],
   "source": [
    "print(\"The list has {} items\".format(len(item_list)))"
   ]
  },
  {
   "cell_type": "code",
   "execution_count": 17,
   "id": "cbe799f2",
   "metadata": {},
   "outputs": [
    {
     "name": "stdout",
     "output_type": "stream",
     "text": [
      "['Airplane', 'Cat', 'Dog', 'Leaf', 'Tree']\n"
     ]
    }
   ],
   "source": [
    "b = sorted(item_list)\n",
    "print(b)"
   ]
  },
  {
   "cell_type": "code",
   "execution_count": 18,
   "id": "f16c900f",
   "metadata": {},
   "outputs": [
    {
     "name": "stdout",
     "output_type": "stream",
     "text": [
      "[3, 25, 47, ['Dog', 'Leaf', 'Tree', 'Cat', 'Airplane'], 45]\n"
     ]
    }
   ],
   "source": [
    "mixed_list = [3, 25, 47, item_list, 45]\n",
    "print(mixed_list)"
   ]
  },
  {
   "cell_type": "code",
   "execution_count": 19,
   "id": "a326fe7d",
   "metadata": {},
   "outputs": [],
   "source": [
    "mixed_list.append(12)\n",
    "mixed_list.append('Boston University')"
   ]
  },
  {
   "cell_type": "code",
   "execution_count": 20,
   "id": "b04ed0d1",
   "metadata": {},
   "outputs": [
    {
     "data": {
      "text/plain": [
       "[3,\n",
       " 25,\n",
       " 47,\n",
       " ['Dog', 'Leaf', 'Tree', 'Cat', 'Airplane'],\n",
       " 45,\n",
       " 12,\n",
       " 'Boston University']"
      ]
     },
     "execution_count": 20,
     "metadata": {},
     "output_type": "execute_result"
    }
   ],
   "source": [
    "mixed_list"
   ]
  },
  {
   "cell_type": "code",
   "execution_count": 21,
   "id": "c8adbdbd",
   "metadata": {},
   "outputs": [
    {
     "data": {
      "text/plain": [
       "3"
      ]
     },
     "execution_count": 21,
     "metadata": {},
     "output_type": "execute_result"
    }
   ],
   "source": [
    "mixed_list[0]"
   ]
  },
  {
   "cell_type": "code",
   "execution_count": 22,
   "id": "32c3edd6",
   "metadata": {},
   "outputs": [
    {
     "data": {
      "text/plain": [
       "['Dog', 'Leaf', 'Tree', 'Cat', 'Airplane']"
      ]
     },
     "execution_count": 22,
     "metadata": {},
     "output_type": "execute_result"
    }
   ],
   "source": [
    "mixed_list[3]"
   ]
  },
  {
   "cell_type": "code",
   "execution_count": 23,
   "id": "a5693992",
   "metadata": {},
   "outputs": [
    {
     "data": {
      "text/plain": [
       "[3, 25]"
      ]
     },
     "execution_count": 23,
     "metadata": {},
     "output_type": "execute_result"
    }
   ],
   "source": [
    "mixed_list[0:2]"
   ]
  },
  {
   "cell_type": "code",
   "execution_count": 24,
   "id": "5d737aab",
   "metadata": {},
   "outputs": [],
   "source": [
    "mixed_list.reverse()"
   ]
  },
  {
   "cell_type": "code",
   "execution_count": 25,
   "id": "6ff2cb91",
   "metadata": {},
   "outputs": [
    {
     "data": {
      "text/plain": [
       "['Boston University',\n",
       " 12,\n",
       " 45,\n",
       " ['Dog', 'Leaf', 'Tree', 'Cat', 'Airplane'],\n",
       " 47,\n",
       " 25,\n",
       " 3]"
      ]
     },
     "execution_count": 25,
     "metadata": {},
     "output_type": "execute_result"
    }
   ],
   "source": [
    "mixed_list"
   ]
  },
  {
   "cell_type": "code",
   "execution_count": 26,
   "id": "387d9b9b",
   "metadata": {},
   "outputs": [],
   "source": [
    "mixed_list[3].reverse()"
   ]
  },
  {
   "cell_type": "code",
   "execution_count": 27,
   "id": "9847170d",
   "metadata": {},
   "outputs": [
    {
     "data": {
      "text/plain": [
       "['Boston University',\n",
       " 12,\n",
       " 45,\n",
       " ['Airplane', 'Cat', 'Tree', 'Leaf', 'Dog'],\n",
       " 47,\n",
       " 25,\n",
       " 3]"
      ]
     },
     "execution_count": 27,
     "metadata": {},
     "output_type": "execute_result"
    }
   ],
   "source": [
    "mixed_list"
   ]
  },
  {
   "cell_type": "markdown",
   "id": "ba92d8cb",
   "metadata": {},
   "source": [
    "### Exercise - Python Lists\n",
    "- Create a list named `foods` with 7 of your favorite foods, and print out the list of foods.\n",
    "- Create a new list `sorted_foods` which stores the foods sorted in alphabetic order.\n",
    "- Reverse the order of the new lists and print out the first 3 foods only (using indices to subset)."
   ]
  },
  {
   "cell_type": "code",
   "execution_count": null,
   "id": "4fee4604",
   "metadata": {},
   "outputs": [],
   "source": []
  },
  {
   "cell_type": "code",
   "execution_count": null,
   "id": "106e5b97",
   "metadata": {},
   "outputs": [],
   "source": []
  },
  {
   "cell_type": "code",
   "execution_count": null,
   "id": "4e8e4b60",
   "metadata": {},
   "outputs": [],
   "source": []
  },
  {
   "cell_type": "markdown",
   "id": "2fdc5d84",
   "metadata": {},
   "source": [
    "### Dictionaries\n",
    "- Dictionaries are an easy way to store `key-value` pairs, where the key is a unique element that has a value stored under it.\n",
    "- Python allows keys and values to be mixed data types."
   ]
  },
  {
   "cell_type": "code",
   "execution_count": 28,
   "id": "f4e1164e",
   "metadata": {},
   "outputs": [
    {
     "name": "stdout",
     "output_type": "stream",
     "text": [
      "{'apples': 2, 'bananas': 4}\n"
     ]
    }
   ],
   "source": [
    "my_dict = {}\n",
    "my_dict['apples'] = 2\n",
    "my_dict['bananas'] = 4\n",
    "\n",
    "print(my_dict)"
   ]
  },
  {
   "cell_type": "code",
   "execution_count": 29,
   "id": "e9da7937",
   "metadata": {},
   "outputs": [
    {
     "data": {
      "text/plain": [
       "{'apples': 7, 'bananas': 4}"
      ]
     },
     "execution_count": 29,
     "metadata": {},
     "output_type": "execute_result"
    }
   ],
   "source": [
    "my_dict['apples'] += 5\n",
    "my_dict"
   ]
  },
  {
   "cell_type": "code",
   "execution_count": 30,
   "id": "19916afb",
   "metadata": {},
   "outputs": [
    {
     "name": "stdout",
     "output_type": "stream",
     "text": [
      "Airplane\n",
      "Cat\n",
      "Tree\n",
      "Leaf\n",
      "Dog\n"
     ]
    }
   ],
   "source": [
    "#Use a for loop to iterate over items in mixed_list[2]\n",
    "for item in mixed_list[3]:\n",
    "    print(item)\n",
    "    my_dict[item] = 20"
   ]
  },
  {
   "cell_type": "code",
   "execution_count": 31,
   "id": "f9887579",
   "metadata": {},
   "outputs": [
    {
     "data": {
      "text/plain": [
       "{'apples': 7,\n",
       " 'bananas': 4,\n",
       " 'Airplane': 20,\n",
       " 'Cat': 20,\n",
       " 'Tree': 20,\n",
       " 'Leaf': 20,\n",
       " 'Dog': 20}"
      ]
     },
     "execution_count": 31,
     "metadata": {},
     "output_type": "execute_result"
    }
   ],
   "source": [
    "my_dict"
   ]
  },
  {
   "cell_type": "code",
   "execution_count": 32,
   "id": "9946e9f3",
   "metadata": {},
   "outputs": [
    {
     "data": {
      "text/plain": [
       "dict_keys(['apples', 'bananas', 'Airplane', 'Cat', 'Tree', 'Leaf', 'Dog'])"
      ]
     },
     "execution_count": 32,
     "metadata": {},
     "output_type": "execute_result"
    }
   ],
   "source": [
    "#Can access the keys directly\n",
    "my_dict.keys()"
   ]
  },
  {
   "cell_type": "code",
   "execution_count": 33,
   "id": "87e792f2",
   "metadata": {},
   "outputs": [
    {
     "data": {
      "text/plain": [
       "dict_values([7, 4, 20, 20, 20, 20, 20])"
      ]
     },
     "execution_count": 33,
     "metadata": {},
     "output_type": "execute_result"
    }
   ],
   "source": [
    "#Can access the values directly\n",
    "my_dict.values()"
   ]
  },
  {
   "cell_type": "markdown",
   "id": "feabf04e",
   "metadata": {},
   "source": [
    "### Exercise - Dictionaries\n",
    "1. Create a dictionary named `sports` and create 5 key-value pairs where a sport is the key and your rating (between 1-10) is the value for each sport.\n",
    "2. Print out the dictionary and create a new variable `score_add` and store the value 2 in this variable\n",
    "3. Using a for loop increase the rating of each sport by `score_add`. Print out the dictionary"
   ]
  },
  {
   "cell_type": "code",
   "execution_count": null,
   "id": "9bf5c3cb",
   "metadata": {},
   "outputs": [],
   "source": []
  },
  {
   "cell_type": "code",
   "execution_count": null,
   "id": "7ab97472",
   "metadata": {},
   "outputs": [],
   "source": []
  },
  {
   "cell_type": "code",
   "execution_count": null,
   "id": "f7f62bf1",
   "metadata": {},
   "outputs": [],
   "source": []
  },
  {
   "cell_type": "markdown",
   "id": "4332a055",
   "metadata": {},
   "source": [
    "### Get User Input\n",
    "- The `input` command can be used to get user input, and this input data can be stored in a variable"
   ]
  },
  {
   "cell_type": "code",
   "execution_count": 34,
   "id": "3244caae",
   "metadata": {},
   "outputs": [
    {
     "name": "stdout",
     "output_type": "stream",
     "text": [
      "what is your name? kv\n"
     ]
    }
   ],
   "source": [
    "name_var = input(\"what is your name? \")"
   ]
  },
  {
   "cell_type": "code",
   "execution_count": 35,
   "id": "dcc699b8",
   "metadata": {},
   "outputs": [
    {
     "data": {
      "text/plain": [
       "'kv'"
      ]
     },
     "execution_count": 35,
     "metadata": {},
     "output_type": "execute_result"
    }
   ],
   "source": [
    "name_var"
   ]
  },
  {
   "cell_type": "code",
   "execution_count": 36,
   "id": "bab22e70",
   "metadata": {},
   "outputs": [
    {
     "name": "stdout",
     "output_type": "stream",
     "text": [
      "My name is kv\n"
     ]
    }
   ],
   "source": [
    "print(\"My name is {}\".format(name_var))"
   ]
  },
  {
   "cell_type": "markdown",
   "id": "1f8c579f",
   "metadata": {},
   "source": [
    "### Exercise - User input\n",
    "Get a user to input a n-bit binary number, and convert it to its decimal form."
   ]
  },
  {
   "cell_type": "code",
   "execution_count": 37,
   "id": "6334e190",
   "metadata": {},
   "outputs": [
    {
     "name": "stdout",
     "output_type": "stream",
     "text": [
      "Enter a binary number: 110101010001\n"
     ]
    }
   ],
   "source": [
    "binaryNum = str(input(\"Enter a binary number: \"))"
   ]
  },
  {
   "cell_type": "code",
   "execution_count": 38,
   "id": "86f5d2f5",
   "metadata": {},
   "outputs": [
    {
     "name": "stdout",
     "output_type": "stream",
     "text": [
      "3409\n"
     ]
    }
   ],
   "source": [
    "decimalVal = 0\n",
    "numBits = len(binaryNum)\n",
    "\n",
    "for i, bit in enumerate(binaryNum):\n",
    "    powerOf2 = (numBits-1) - i\n",
    "    \n",
    "    if bit == '1':\n",
    "        decimalVal += 2**(powerOf2)\n",
    "    \n",
    "print(decimalVal)"
   ]
  },
  {
   "cell_type": "markdown",
   "id": "59b48562",
   "metadata": {},
   "source": [
    "### Libraries in Python\n",
    "Python has several inbuilt libraries that can be used for different applications. We import libraries using the `import` command."
   ]
  },
  {
   "cell_type": "code",
   "execution_count": 39,
   "id": "ada4e90b",
   "metadata": {},
   "outputs": [],
   "source": [
    "## Importing Libraries - we will use these libraries later\n",
    "import numpy as np\n",
    "import matplotlib.pyplot as plt\n",
    "import time"
   ]
  },
  {
   "cell_type": "code",
   "execution_count": null,
   "id": "826a072c",
   "metadata": {},
   "outputs": [],
   "source": []
  }
 ],
 "metadata": {
  "kernelspec": {
   "display_name": "Python 3 (ipykernel)",
   "language": "python",
   "name": "python3"
  },
  "language_info": {
   "codemirror_mode": {
    "name": "ipython",
    "version": 3
   },
   "file_extension": ".py",
   "mimetype": "text/x-python",
   "name": "python",
   "nbconvert_exporter": "python",
   "pygments_lexer": "ipython3",
   "version": "3.9.-1"
  }
 },
 "nbformat": 4,
 "nbformat_minor": 5
}
