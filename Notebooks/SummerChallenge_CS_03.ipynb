{
 "cells": [
  {
   "cell_type": "markdown",
   "id": "30722238",
   "metadata": {},
   "source": [
    "## BU Summer Challenge: Computer Science [July 2024]\n",
    "### Notebook 03"
   ]
  },
  {
   "cell_type": "markdown",
   "id": "0ad80f20",
   "metadata": {},
   "source": [
    "## Functions in Python\n",
    "A **program routine** is a named group of instructions that accomplishes some task. A routine may\n",
    "be invoked (called) as many times as needed in a given program. A **function** is Python’s version\n",
    "of a program routine.\n",
    "\n",
    "The `def` command is used to specify a function in Python. "
   ]
  },
  {
   "cell_type": "markdown",
   "id": "77dc4396",
   "metadata": {},
   "source": [
    "### Optimal Stopping: Secretary Problem Algorithm\n",
    "**INPUT:** List of $n=1000$ secretaries each with a single integer score\n",
    "\n",
    "**OUTPUT:** Return the best secretary found as per the 37% optimal stopping rule\n",
    "\n",
    "1. Reject the first 37% of secretaries, and keep track of the score of the best secretary seen thus far.\n",
    "2. Once 37% of secretaries have been sampled, choose (hire) the next best secretary who is better than all the others seen thus far."
   ]
  },
  {
   "cell_type": "code",
   "execution_count": null,
   "id": "8daf347d",
   "metadata": {},
   "outputs": [],
   "source": [
    "import numpy as np"
   ]
  },
  {
   "cell_type": "code",
   "execution_count": null,
   "id": "e4bd9434",
   "metadata": {},
   "outputs": [],
   "source": [
    "#Create a list with 10 random numbers\n",
    "random_num_count = 0\n",
    "random_num_list = []\n",
    "\n",
    "while random_num_count < 10:\n",
    "    random_num_count += 1\n",
    "    random_num_list.append(np.random.randint(0,100))"
   ]
  },
  {
   "cell_type": "code",
   "execution_count": null,
   "id": "64a28913",
   "metadata": {},
   "outputs": [],
   "source": [
    "random_num_list"
   ]
  },
  {
   "cell_type": "code",
   "execution_count": null,
   "id": "066e11f3",
   "metadata": {},
   "outputs": [],
   "source": []
  },
  {
   "cell_type": "code",
   "execution_count": null,
   "id": "ad861a86",
   "metadata": {},
   "outputs": [],
   "source": [
    "def solveSecretaryProblem(n):\n",
    "    '''\n",
    "    Code to implement the Optimal stopping algorithm for the secretary problem\n",
    "    Input: Integer n to specify size of secretary list, each with a single integer score\n",
    "    Return: Return the best secretary found as per the 37% optimal stopping rule\n",
    "    '''\n",
    "    #Create a secretary list of size n with random numbers\n",
    "    secretary_list = np.random.randint(1000, size = n)\n",
    "    print(\"Secretary List:\", secretary_list)\n",
    "    print(\"Best Secretary: {}, Location of Best Secretary: {}\".format(max(secretary_list), \n",
    "                                        list(secretary_list).index(max(secretary_list))+1))\n",
    "    \n",
    "    #Variables to store the best secretary and counter\n",
    "    best_secr = secretary_list[0]\n",
    "    counter = 0\n",
    "\n",
    "    #This is a loop to iterate over each secretary in my list\n",
    "    for s_i in secretary_list:\n",
    "        counter += 1\n",
    "        #print(\"Counter: \", counter)\n",
    "        \n",
    "        #Reject first 37% and keep track of best secretary so far\n",
    "        if counter < int(0.37*n):\n",
    "            if s_i >= best_secr:\n",
    "                print(\"Better s_i found! s_i = {}, prev_best = {}\".format(s_i, best_secr))\n",
    "                best_secr = s_i\n",
    "\n",
    "        #Once we get past the first 37%\n",
    "        else:\n",
    "            #If we find a secretary who is better than all seen in first 37%, return that as the solution.\n",
    "            if s_i > best_secr:\n",
    "                print(\"\\nSecretary Number: {}, Secretary Score = {}\".format(counter, s_i))\n",
    "                return s_i\n",
    "    \n",
    "    #If we did not find a better secretary, we return the last secretary in the list \n",
    "    print(\"\\nMade it to the end of the list, last Secretary:\", secretary_list[-1])\n",
    "    \n",
    "    return secretary_list[len(secretary_list)-1]"
   ]
  },
  {
   "cell_type": "code",
   "execution_count": null,
   "id": "daaf9def",
   "metadata": {},
   "outputs": [],
   "source": [
    "bestsecretaryFound = solveSecretaryProblem(n=100)"
   ]
  },
  {
   "cell_type": "code",
   "execution_count": null,
   "id": "b751f394",
   "metadata": {},
   "outputs": [],
   "source": [
    "bestsecretaryFound = solveSecretaryProblem(n=10)"
   ]
  },
  {
   "cell_type": "code",
   "execution_count": null,
   "id": "aa0e1e66",
   "metadata": {
    "scrolled": true
   },
   "outputs": [],
   "source": [
    "bestsecretaryFound = solveSecretaryProblem(n=1000)"
   ]
  },
  {
   "cell_type": "code",
   "execution_count": null,
   "id": "08a68f6d",
   "metadata": {},
   "outputs": [],
   "source": []
  },
  {
   "cell_type": "markdown",
   "id": "36f500c5",
   "metadata": {},
   "source": [
    "### Exercise: Restaurant Tab Calculation\n",
    "Here we will expand on the previous code from the restaurant tab exercise and make use of functions. Carefully go over the following functions:\n",
    "1. `getCustomerOrder`: Ask the customer how many items they would like to order, and then take their order while storing the ordered items as a list.\n",
    "2. `calculateOrderTotal`: Given the order list as an input, calculate the total food/drink total using the menu prices.\n",
    "3. `calculateTab`: Ask the customer to input the gift card and tip amount and calculate the tab total - include tax, service charge, tip, gift card amount. Return a dictionary with these totals.\n",
    "4. `printReceipt`: Print an itemized receipt for the customer using their order list and the total dictionary from (3) as inputs."
   ]
  },
  {
   "cell_type": "code",
   "execution_count": 1,
   "id": "b224609f",
   "metadata": {},
   "outputs": [
    {
     "name": "stdout",
     "output_type": "stream",
     "text": [
      "Hello kv!\n",
      "Welcome to KV Cafe, established in 2023 in Boston, MA\n"
     ]
    }
   ],
   "source": [
    "#Specify global variables\n",
    "#This is a dictionary that stores the restaurant menu item prices\n",
    "restaurant_menu_prices = {\"Cheeseburger\": 10, \"Fries\": 5.5, \"Cheese pizza\": 14.5, \"Pita wrap\": 12,\n",
    "                         \"Chicken sandwich\": 12, \"Falafel\": 8, \"Fried rice\": 10.5, \"Pad thai\": 13.5,\n",
    "                         \"Noodles\": 9, \"Orange juice\": 4, \"Coffee\": 3.5, \"Tea\": 3.25, \"Coke\": 2.5,\n",
    "                         \"Ice cream\": 5.5}\n",
    "\n",
    "# Specify restaurant details\n",
    "restaurant_name = 'KV Cafe'\n",
    "restaurant_year_established = 2023\n",
    "restaurant_city = 'Boston, MA'\n",
    "customer_name = 'kv'\n",
    "\n",
    "# The tax rate is 7%\n",
    "tax_rate = 0.07\n",
    "# Service charge is 6%\n",
    "service_charge = 0.06\n",
    "\n",
    "# Display welcome message\n",
    "print(\"Hello {}!\\nWelcome to {}, established in {} in {}\".format(customer_name, restaurant_name,\n",
    "                                                      restaurant_year_established,\n",
    "                                                      restaurant_city))\n"
   ]
  },
  {
   "cell_type": "code",
   "execution_count": 2,
   "id": "43bda40a",
   "metadata": {},
   "outputs": [],
   "source": [
    "def getCustomerOrder():\n",
    "    '''\n",
    "    Function to get the customer to input their order\n",
    "    ARGS: \n",
    "        None\n",
    "    RETURN:\n",
    "        customer_order: List of menu items the customer ordered\n",
    "    '''\n",
    "    num_items = int(input(\"Please enter the number of items you would like to order: \"))\n",
    "    customer_order = []\n",
    "\n",
    "    #Use a for loop to add items to the list\n",
    "    for i in range(num_items):\n",
    "        dish_i = ''\n",
    "        while dish_i.capitalize() not in restaurant_menu_prices:\n",
    "            dish_i = input(\"Please enter food/drink item {} you would like to order? \".format(i+1))\n",
    "\n",
    "            if dish_i.capitalize() not in restaurant_menu_prices:\n",
    "                print(\"Sorry that item isn't on the menu, please try again\")\n",
    "\n",
    "        customer_order.append(dish_i.capitalize())\n",
    "\n",
    "    #Display customer's order\n",
    "    print(\"{} ordered the following items: {}\\n\".format(customer_name, customer_order))\n",
    "    \n",
    "    return customer_order\n",
    "\n",
    "\n",
    "def calculateOrderTotal(order_list):\n",
    "    '''\n",
    "    Function to calculate the total order value given a list of ordered items\n",
    "    ARGS: \n",
    "        order_list: a list of items ordered\n",
    "    RETURN:\n",
    "        order_total: the total cost of the ordered items\n",
    "    '''\n",
    "    #Initialize order total value to 0\n",
    "    order_total = 0\n",
    "\n",
    "    #Loop over each menu item in the customer's order\n",
    "    for menu_item in order_list:\n",
    "        order_total += restaurant_menu_prices[menu_item] #Update the order total\n",
    "        print(\"Added {} to your tab!\".format(menu_item))\n",
    "\n",
    "    print(\"The total value of all ordered items for {} is {}\".format(customer_name, order_total))\n",
    "    \n",
    "    return order_total\n",
    "\n",
    "\n",
    "def calculatePromoDiscounts(order_list):\n",
    "    '''\n",
    "    This function calculates promo discounts for each item\n",
    "    INPUTS: order_list\n",
    "    OUTPUT: discounted order total\n",
    "    '''\n",
    "    promos = {\"Cheeseburger\": 0.05, \"Fries\": 0.1, \"Cheese pizza\": 0.05, \"Pita wrap\": 0.2,\n",
    "                \"Chicken sandwich\": 0.1, \"Falafel\": 0.2, \"Fried rice\": 0.15, \n",
    "              \"Pad thai\": 0.1, \"Noodles\": 0.1, \"Orange juice\": 0.1, \"Coffee\": 0.1, \n",
    "              \"Tea\": 0.05, \"Coke\": 0.2, \"Ice cream\": 0.05}\n",
    "    \n",
    "    print(\"\\nCalculating promo discounts...\")\n",
    "    \n",
    "    discountTotal = 0\n",
    "    for order_item in order_list:\n",
    "\n",
    "        item_price = restaurant_menu_prices[order_item]\n",
    "        promoDiscount_amount = round(promos[order_item]*item_price, 2)\n",
    "        discountTotal += promoDiscount_amount\n",
    "\n",
    "        print(\"Order item: {}, Item Price: {}, Discount: ${}\".format(order_item, \n",
    "                                                                     item_price, \n",
    "                                                                    promoDiscount_amount))\n",
    "    \n",
    "    discountTotal = round(discountTotal, 2)\n",
    "    print(\"Total Discounts: \", discountTotal)\n",
    "    \n",
    "    return discountTotal\n",
    "\n",
    "\n",
    "def calculateTab(order_tot, order_list):\n",
    "    '''\n",
    "    Function to calculate the restaurant tab, given the order total, tax, svc, \n",
    "    ARGS: \n",
    "        order_tot : order total of food/drink items\n",
    "        order_list : customers order list\n",
    "    RETURN:\n",
    "        tabTotals: dictionary with the itemized totals\n",
    "    '''\n",
    "    #Ask if the customer has a gift card\n",
    "    gift_card_amount = float(input(\"\\nWhat is your gift card value: \"))\n",
    "\n",
    "    #Ask if the customer would like to add a tip amount\n",
    "    tip_amount = float(input(\"What percentage would you like to tip? (15, 20, 25): \"))\n",
    "    \n",
    "    tip_str = \"Tip ({}%)\".format(tip_amount)\n",
    "    tip_amount = tip_amount/100\n",
    "    \n",
    "    #calculate the tab total\n",
    "    tax = order_tot*(tax_rate)\n",
    "    svc = order_tot*(service_charge)\n",
    "    tip = order_tot*(tip_amount)\n",
    "    \n",
    "    #Get the discounts\n",
    "    discountTotal = calculatePromoDiscounts(order_list)\n",
    "    \n",
    "    tab_total = order_tot + tax + svc + tip - gift_card_amount - discountTotal\n",
    "    tab_total = round(tab_total, 2)\n",
    "    \n",
    "    tabTotals = {'Tax':tax, 'Service chg':svc, tip_str:tip, 'Giftcard': -gift_card_amount,\n",
    "                 'Promos': discountTotal, 'Order Total':tab_total}\n",
    "\n",
    "    print(\"\\n{}, your total restaurant tab amount is {}\".format(customer_name, tab_total))\n",
    "    print(\"Thank you for visiting {}, we hope you enjoyed your meal!\".format(restaurant_name))\n",
    "    \n",
    "    return tabTotals\n",
    "    \n",
    "\n",
    "def printReceipt(cust_order, tab_totals):\n",
    "    '''\n",
    "    Function to display the itemized receipt\n",
    "    ARGS: \n",
    "        cust_order : items ordered by the customer\n",
    "        tab_totals : itemized totals for tax, svc, tip\n",
    "    RETURN:\n",
    "        None\n",
    "    '''\n",
    "    printReceipt = input(\"Would you like to view your itemized receipt? (Y/N): \")\n",
    "    if printReceipt.lower() == 'y':\n",
    "        from datetime import date\n",
    "        date_str = date.today()\n",
    "        \n",
    "        line_str = \"---\"*9\n",
    "        print(line_str)\n",
    "        print(\"       {} Receipt\\n        {} \\n        {}\".format(restaurant_name,\n",
    "                                                                 restaurant_city, date_str))\n",
    "        print(line_str)\n",
    "        for item_ordered in cust_order:\n",
    "            print(f\"{item_ordered:<20} {restaurant_menu_prices[item_ordered]:.2f}\")\n",
    "        print(line_str)\n",
    "        for item in list(tab_totals.keys())[:-1]:\n",
    "            print(f\"{item:<20} {tab_totals[item]:.2f}\")\n",
    "        print(line_str)\n",
    "        print(f\"{'TOTAL':<20} {tab_totals['Order Total']:.2f}\")\n",
    "        print(line_str)\n",
    "        \n",
    "    else:\n",
    "        print(\"Thanks for visiting!\")"
   ]
  },
  {
   "cell_type": "markdown",
   "id": "3df8a6bd",
   "metadata": {},
   "source": [
    "### Call functions for restaurant tab calculation and print itemized receipt\n",
    "Call each function to get the customer order, and then calculate the itemized receipt with all the different amounts on the tab."
   ]
  },
  {
   "cell_type": "code",
   "execution_count": 3,
   "id": "2b635c0a",
   "metadata": {},
   "outputs": [
    {
     "name": "stdout",
     "output_type": "stream",
     "text": [
      "Please enter the number of items you would like to order: 5\n",
      "Please enter food/drink item 1 you would like to order? coffee\n",
      "Please enter food/drink item 2 you would like to order? ishdsha\n",
      "Sorry that item isn't on the menu, please try again\n",
      "Please enter food/drink item 2 you would like to order? cheese pizza\n",
      "Please enter food/drink item 3 you would like to order? falafel\n",
      "Please enter food/drink item 4 you would like to order? pad thai\n",
      "Please enter food/drink item 5 you would like to order? chicken sandwich\n",
      "kv ordered the following items: ['Coffee', 'Cheese pizza', 'Falafel', 'Pad thai', 'Chicken sandwich']\n",
      "\n"
     ]
    }
   ],
   "source": [
    "#Function calls\n",
    "cust_order_list = getCustomerOrder() #get the order"
   ]
  },
  {
   "cell_type": "code",
   "execution_count": 4,
   "id": "b70c3149",
   "metadata": {},
   "outputs": [
    {
     "name": "stdout",
     "output_type": "stream",
     "text": [
      "Added Coffee to your tab!\n",
      "Added Cheese pizza to your tab!\n",
      "Added Falafel to your tab!\n",
      "Added Pad thai to your tab!\n",
      "Added Chicken sandwich to your tab!\n",
      "The total value of all ordered items for kv is 51.5\n"
     ]
    }
   ],
   "source": [
    "orderTotal = calculateOrderTotal(cust_order_list) #calculate the total of food/drink items"
   ]
  },
  {
   "cell_type": "code",
   "execution_count": 5,
   "id": "4ed64461",
   "metadata": {},
   "outputs": [
    {
     "name": "stdout",
     "output_type": "stream",
     "text": [
      "\n",
      "What is your gift card value: 5\n",
      "What percentage would you like to tip? (15, 20, 25): 25\n",
      "\n",
      "Calculating promo discounts...\n",
      "Order item: Coffee, Item Price: 3.5, Discount: $0.35\n",
      "Order item: Cheese pizza, Item Price: 14.5, Discount: $0.73\n",
      "Order item: Falafel, Item Price: 8, Discount: $1.6\n",
      "Order item: Pad thai, Item Price: 13.5, Discount: $1.35\n",
      "Order item: Chicken sandwich, Item Price: 12, Discount: $1.2\n",
      "Total Discounts:  5.23\n",
      "\n",
      "kv, your total restaurant tab amount is 60.84\n",
      "Thank you for visiting KV Cafe, we hope you enjoyed your meal!\n"
     ]
    }
   ],
   "source": [
    "itemizedTotals = calculateTab(orderTotal, cust_order_list) #calculate the total tab amount"
   ]
  },
  {
   "cell_type": "code",
   "execution_count": 6,
   "id": "826a072c",
   "metadata": {},
   "outputs": [
    {
     "name": "stdout",
     "output_type": "stream",
     "text": [
      "Would you like to view your itemized receipt? (Y/N): y\n",
      "---------------------------\n",
      "       KV Cafe Receipt\n",
      "        Boston, MA \n",
      "        2023-07-20\n",
      "---------------------------\n",
      "Coffee               3.50\n",
      "Cheese pizza         14.50\n",
      "Falafel              8.00\n",
      "Pad thai             13.50\n",
      "Chicken sandwich     12.00\n",
      "---------------------------\n",
      "Tax                  3.61\n",
      "Service chg          3.09\n",
      "Tip (25.0%)          12.88\n",
      "Giftcard             -5.00\n",
      "Promos               5.23\n",
      "---------------------------\n",
      "TOTAL                60.84\n",
      "---------------------------\n"
     ]
    }
   ],
   "source": [
    "printReceipt(cust_order_list, itemizedTotals) #print an itemized receipt"
   ]
  },
  {
   "cell_type": "code",
   "execution_count": null,
   "id": "632aa639",
   "metadata": {},
   "outputs": [],
   "source": []
  },
  {
   "cell_type": "markdown",
   "id": "698ec767",
   "metadata": {},
   "source": [
    "### Exercise: Restaurant Tab Updates\n",
    "1. Test out the restaurant tab functions for 3 different orders, and view the receipts.\n",
    "2. The restaurant wants to run a promotion on food items. Use another dictionary to store the percentage discount amounts for each menu item (between 5 and 20%). Then add a new function `calculatePromoDiscounts` to the code above, and use that to calculate the order total value of the food and drink."
   ]
  },
  {
   "cell_type": "code",
   "execution_count": null,
   "id": "3578b9cf",
   "metadata": {},
   "outputs": [],
   "source": [
    "def calculatePromoDiscounts(order_list):\n",
    "    '''\n",
    "    This function calculates promo discounts for each item\n",
    "    INPUTS: order_list\n",
    "    OUTPUT: discounted order total\n",
    "    '''\n",
    "    \n",
    "    promos = {\"Cheeseburger\": 0.05, \"Fries\": 0.1, \"Cheese pizza\": 0.05, \"Pita wrap\": 0.2,\n",
    "                \"Chicken sandwich\": 0.1, \"Falafel\": 0.2, \"Fried rice\": 0.15, \n",
    "              \"Pad thai\": 0.1, \"Noodles\": 0.1, \"Orange juice\": 0.1, \"Coffee\": 0.1, \n",
    "              \"Tea\": 0.05, \"Coke\": 0.2, \"Ice cream\": 0.05}\n",
    "    \n",
    "    discountTotal = 0\n",
    "    for order_item in order_list:\n",
    "\n",
    "        item_price = restaurant_menu_prices[order_item]\n",
    "        promoDiscount_amount = round(promos[order_item]*item_price, 2)\n",
    "        discountTotal += promoDiscount_amount\n",
    "\n",
    "        print(\"Order item: {}, Item Price: {}, Discount: ${}\".format(order_item, \n",
    "                                                                     item_price, \n",
    "                                                                    promoDiscount_amount))\n",
    "    \n",
    "    discountTotal = round(discountTotal, 2)\n",
    "    print(\"Total Discounts: \", discountTotal)\n",
    "    \n",
    "    return discountTotal\n",
    "    "
   ]
  },
  {
   "cell_type": "code",
   "execution_count": null,
   "id": "83c06b1f",
   "metadata": {},
   "outputs": [],
   "source": [
    "d_total = calculatePromoDiscounts(cust_order_list)"
   ]
  },
  {
   "cell_type": "markdown",
   "id": "cdaff744",
   "metadata": {},
   "source": [
    "### Excercise: Celsius to Fahrenheit Conversion\n",
    "$$F = (\\frac{9}{5}\\cdot C) + 32$$\n",
    "1. Write a function `CelsiusToFahrenheit` to convert Celsius to Fahrenheit\n",
    "2. Write a function `FahrenheitToCelsius` to convert Fahrenheit to Celsius\n",
    "3. Write a function to get the user's input for and ask if they want to convert Celsius to Fahrenheit, or Fahrenheit to Celsius. Depending on the user input, as the user for a minimum and maximum temperature they want to convert between. For every integer temperature value in that range of numbers, call the corresponding function and display the resulting conversion."
   ]
  },
  {
   "cell_type": "code",
   "execution_count": null,
   "id": "ac8ba8bd",
   "metadata": {},
   "outputs": [],
   "source": [
    "def CelsiusToFahrenheit(celsius_val):\n",
    "    ...\n",
    "\n",
    "\n",
    "    \n",
    "def FahrenheitToCelsius(fahrenheit_val):\n",
    "    ...\n",
    "    \n",
    "    \n",
    "    \n",
    "def getUserInput():\n",
    "    ..."
   ]
  },
  {
   "cell_type": "code",
   "execution_count": null,
   "id": "7562d38c",
   "metadata": {},
   "outputs": [],
   "source": []
  },
  {
   "cell_type": "code",
   "execution_count": null,
   "id": "32fdf014",
   "metadata": {},
   "outputs": [],
   "source": []
  }
 ],
 "metadata": {
  "kernelspec": {
   "display_name": "Python 3 (ipykernel)",
   "language": "python",
   "name": "python3"
  },
  "language_info": {
   "codemirror_mode": {
    "name": "ipython",
    "version": 3
   },
   "file_extension": ".py",
   "mimetype": "text/x-python",
   "name": "python",
   "nbconvert_exporter": "python",
   "pygments_lexer": "ipython3",
   "version": "3.9.-1"
  }
 },
 "nbformat": 4,
 "nbformat_minor": 5
}
