{
 "cells": [
  {
   "cell_type": "markdown",
   "id": "30722238",
   "metadata": {},
   "source": [
    "## BU Summer Challenge: Computer Science [July 2024]\n",
    "### Notebook 04"
   ]
  },
  {
   "cell_type": "markdown",
   "id": "77dc4396",
   "metadata": {},
   "source": [
    "## Sorting Algorithms, Running Time and Plotting\n",
    "1. Bubble Sort\n",
    "2. Merge Sort\n",
    "3. Python's in-built sorted function"
   ]
  },
  {
   "cell_type": "code",
   "execution_count": null,
   "id": "8daf347d",
   "metadata": {},
   "outputs": [],
   "source": [
    "#Import libraries\n",
    "import numpy as np\n",
    "import time\n",
    "import matplotlib.pyplot as plt"
   ]
  },
  {
   "cell_type": "code",
   "execution_count": null,
   "id": "7562d38c",
   "metadata": {},
   "outputs": [],
   "source": [
    "def bubbleSort(arr):\n",
    "    n = len(arr)\n",
    "    \n",
    "    # Traverse through all array elements\n",
    "    for i in range(n-1):\n",
    "        # traverse the array from 0 to n-i-1\n",
    "        for j in range(0, n-i-1):\n",
    "            \n",
    "            # Swap if the element found is greater than the next element\n",
    "            if arr[j] > arr[j + 1]:\n",
    "                arr[j], arr[j + 1] = arr[j + 1], arr[j]\n",
    "        \n",
    "\n",
    "def mergeSort(arr):\n",
    "    if len(arr) > 1:\n",
    "        # Create sub_array2 ← A[start..mid] and sub_array2 ← A[mid+1..end]\n",
    "        mid = len(arr)//2\n",
    "        sub_array1 = arr[:mid]\n",
    "        sub_array2 = arr[mid:]\n",
    "\n",
    "        # Sort the two halves\n",
    "        mergeSort(sub_array1)\n",
    "        mergeSort(sub_array2)\n",
    "\n",
    "        # Initial values for pointers that we use to keep track of where we are in each array\n",
    "        i = j = k = 0\n",
    "\n",
    "        # Until we reach the end of either start or end, pick larger among\n",
    "        # elements start and end and place them in the correct position in the sorted array\n",
    "        while i < len(sub_array1) and j < len(sub_array2):\n",
    "            if sub_array1[i] < sub_array2[j]:\n",
    "                arr[k] = sub_array1[i]\n",
    "                i += 1\n",
    "            else:\n",
    "                arr[k] = sub_array2[j]\n",
    "                j += 1\n",
    "            k += 1\n",
    "\n",
    "        # When all elements are traversed in either arr1 or arr2,\n",
    "        # pick up the remaining elements and put in sorted array\n",
    "        while i < len(sub_array1):\n",
    "            arr[k] = sub_array1[i]\n",
    "            i += 1\n",
    "            k += 1\n",
    "\n",
    "        while j < len(sub_array2):\n",
    "            arr[k] = sub_array2[j]\n",
    "            j += 1\n",
    "            k += 1"
   ]
  },
  {
   "cell_type": "markdown",
   "id": "192879cd",
   "metadata": {},
   "source": [
    "### Testing running time of different sorting algorithms\n",
    "For different sizes of lists of numbers, get the running time each of the algorithms."
   ]
  },
  {
   "cell_type": "code",
   "execution_count": null,
   "id": "665c974b",
   "metadata": {},
   "outputs": [],
   "source": [
    "def getBubbleSortRuntime(rand_num_list):\n",
    "    #Get running time of bubble sort\n",
    "    unsorted_list = rand_num_list.copy()\n",
    "    startTime = time.perf_counter()\n",
    "\n",
    "    bubbleSort(unsorted_list)\n",
    "\n",
    "    bbsort_time = time.perf_counter() - startTime\n",
    "    print(\"Bubble Sort Runtime = {:.5f} seconds\".format(bbsort_time))\n",
    "    \n",
    "    return bbsort_time\n",
    "\n",
    "\n",
    "def getMergeSortRuntime(rand_num_list):\n",
    "    #Get running time of bubble sort\n",
    "    unsorted_list_2 = rand_num_list.copy()\n",
    "    startTime = time.perf_counter()\n",
    "\n",
    "    mergeSort(unsorted_list_2)\n",
    "\n",
    "    mgsort_time = time.perf_counter() - startTime\n",
    "    print(\"Merge Sort Runtime = {:.5f} seconds\".format(mgsort_time))\n",
    "    \n",
    "    return mgsort_time\n",
    "\n",
    "\n",
    "def getPythonSortRuntime(rand_num_list):\n",
    "    #Get running time of inbuilt sort function in python\n",
    "    unsorted_list_3 = rand_num_list.copy()\n",
    "    startTime = time.perf_counter()\n",
    "    py_sorted_list = sorted(unsorted_list_3)\n",
    "\n",
    "    py_time = time.perf_counter() - startTime\n",
    "    print(\"Python sorted() function Runtime = {:.5f} seconds\".format(py_time))\n",
    "    \n",
    "    return py_time"
   ]
  },
  {
   "cell_type": "code",
   "execution_count": null,
   "id": "cd01c8ce",
   "metadata": {
    "scrolled": true
   },
   "outputs": [],
   "source": [
    "num_list = np.random.randint(10000, size = 10)"
   ]
  },
  {
   "cell_type": "code",
   "execution_count": null,
   "id": "5e7a34bd",
   "metadata": {},
   "outputs": [],
   "source": [
    "getBubbleSortRuntime(num_list)\n",
    "getMergeSortRuntime(num_list)\n",
    "getPythonSortRuntime(num_list)"
   ]
  },
  {
   "cell_type": "markdown",
   "id": "dd07bd33",
   "metadata": {},
   "source": [
    "### Exercise\n",
    "1. For each of the above three algorithms, get the running time with different sizes of input lists ranging from $n=10$ to $n=1000$.\n",
    "2. To do this, create a random list of numbers of size $100, 500, 1000$ and call the sorting functions.\n",
    "3. Repeat with a list input in descending order - this should give an idea of worst case running time."
   ]
  },
  {
   "cell_type": "code",
   "execution_count": null,
   "id": "face7105",
   "metadata": {},
   "outputs": [],
   "source": []
  },
  {
   "cell_type": "markdown",
   "id": "df1b7624",
   "metadata": {},
   "source": [
    "### Exercise: Generate Running time plots of Bubble Sort vs. Merge Sort vs. Python's sorted function\n",
    "1. For the given values of $n$ create random lists of the size and generate plots\n",
    "2. Add code to repeat for lists in descending order.\n",
    "3. Add larger values of $n$"
   ]
  },
  {
   "cell_type": "code",
   "execution_count": null,
   "id": "97bc6288",
   "metadata": {},
   "outputs": [],
   "source": [
    "n_vals = [50, 100, 500, 1000, 2000]\n",
    "bubbleSortTimes = []\n",
    "mergSortTimes = []\n",
    "pySortTimes = []\n",
    "\n",
    "for n in n_vals:\n",
    "    \n",
    "    print(\"Sorting list of size = {} using 3 Algorithms\".format(n))\n",
    "    unsorted_nums = np.random.randint(1000, size = n)\n",
    "    \n",
    "    bubbleSortTimes.append(getBubbleSortRuntime(unsorted_nums))   \n",
    "    mergSortTimes.append(getMergeSortRuntime(unsorted_nums))\n",
    "    pySortTimes.append(getPythonSortRuntime(unsorted_nums))\n",
    "    \n",
    "    print(\"--\"*25)"
   ]
  },
  {
   "cell_type": "code",
   "execution_count": null,
   "id": "4e905f66",
   "metadata": {},
   "outputs": [],
   "source": [
    "plt.figure(figsize=(12,5))\n",
    "plt.title('Comparing Running time of Sorting Algorithms', fontsize=15)\n",
    "\n",
    "plt.plot(n_vals, bubbleSortTimes, 'r-', label='Bubble Sort')\n",
    "plt.plot(n_vals, mergSortTimes, 'g-', label='Merge Sort')\n",
    "plt.plot(n_vals, pySortTimes, 'b-', label='Python Sorted()')\n",
    "\n",
    "\n",
    "plt.xlabel(\"Size of list, n\", fontsize=14)\n",
    "plt.ylabel(\"Runtime (seconds)\", fontsize=14)\n",
    "plt.grid()\n",
    "plt.legend(loc='upper left', fontsize=12)"
   ]
  },
  {
   "cell_type": "code",
   "execution_count": null,
   "id": "5cd92a97",
   "metadata": {},
   "outputs": [],
   "source": []
  },
  {
   "cell_type": "markdown",
   "id": "04d8d1dc",
   "metadata": {},
   "source": [
    "### Exercise \n",
    "Create a function `getSortingRuntimes` that does the following:\n",
    "1. Asks the user for input regarding which of the 3 algorithms they want to test\n",
    "2. Asks the user to input the various sizes of lists they want to sort\n",
    "3. Asks the user whether they want to sort a random list of numbers or a list in descending order\n",
    "4. Runs the code to sort and generates the running time plots."
   ]
  },
  {
   "cell_type": "code",
   "execution_count": null,
   "id": "12d93c85",
   "metadata": {},
   "outputs": [],
   "source": [
    "def getSortingRuntimes():\n",
    "    ..."
   ]
  },
  {
   "cell_type": "code",
   "execution_count": null,
   "id": "ea5602cc",
   "metadata": {},
   "outputs": [],
   "source": []
  }
 ],
 "metadata": {
  "kernelspec": {
   "display_name": "Python 3 (ipykernel)",
   "language": "python",
   "name": "python3"
  },
  "language_info": {
   "codemirror_mode": {
    "name": "ipython",
    "version": 3
   },
   "file_extension": ".py",
   "mimetype": "text/x-python",
   "name": "python",
   "nbconvert_exporter": "python",
   "pygments_lexer": "ipython3",
   "version": "3.9.undefined"
  }
 },
 "nbformat": 4,
 "nbformat_minor": 5
}
