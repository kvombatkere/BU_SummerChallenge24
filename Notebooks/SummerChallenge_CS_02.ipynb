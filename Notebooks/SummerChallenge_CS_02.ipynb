{
 "cells": [
  {
   "cell_type": "markdown",
   "id": "30722238",
   "metadata": {},
   "source": [
    "## BU Summer Challenge: Computer Science [July 2024]\n",
    "### Notebook 02"
   ]
  },
  {
   "cell_type": "markdown",
   "id": "1dae8fa1",
   "metadata": {},
   "source": [
    "### Exploring UTF-8 Encodings and Control Characters\n",
    "1. Use the `chr` functions with 5 different numbers between 1 and 100, and print out their corresponding characters.\n",
    "2. Use the `ord` function with 5 different characters, and print out their corresponding encoded numbers.\n",
    "3. Try the `\\n` and `\\t` control characters with 2 different print statements each."
   ]
  },
  {
   "cell_type": "code",
   "execution_count": 1,
   "id": "c04e61a2",
   "metadata": {},
   "outputs": [
    {
     "data": {
      "text/plain": [
       "'#'"
      ]
     },
     "execution_count": 1,
     "metadata": {},
     "output_type": "execute_result"
    }
   ],
   "source": [
    "chr(35)"
   ]
  },
  {
   "cell_type": "code",
   "execution_count": 2,
   "id": "33dc8564",
   "metadata": {},
   "outputs": [
    {
     "data": {
      "text/plain": [
       "121"
      ]
     },
     "execution_count": 2,
     "metadata": {},
     "output_type": "execute_result"
    }
   ],
   "source": [
    "ord('y')"
   ]
  },
  {
   "cell_type": "code",
   "execution_count": null,
   "id": "9ca64cea",
   "metadata": {
    "scrolled": true
   },
   "outputs": [],
   "source": [
    "print(\"abc \\t def\")"
   ]
  },
  {
   "cell_type": "markdown",
   "id": "36f500c5",
   "metadata": {},
   "source": [
    "### Calculate the Restaurant Tab\n",
    "We can write a simple program to calculate the tab at a restaurant, based on the items ordered from the menu and tax rate + service charge and also ask the customer about the tip amount and if they have a gift card.\n",
    "In this exercise, we will use the provided dictionary and code as a starter and then add code to complete the task as follows.\n",
    "1. First define variables for restaurant name, year, city and store them as variables\n",
    "2. Ask the customer to enter their name, then welcome the customer with a message.\n",
    "3. Get the customer's order - we assume the customer orders 3 dishes"
   ]
  },
  {
   "cell_type": "code",
   "execution_count": 1,
   "id": "e63d5871",
   "metadata": {},
   "outputs": [],
   "source": [
    "#This is a dictionary that stores the restaurant menu item prices\n",
    "restaurant_menu_prices = {\"cheeseburger\": 10, \"fries\": 5.5, \"pizza\": 14.5,\n",
    "                         \"chicken sandwich\": 12, \"falafel\": 8, \"fried rice\": 10.5,\n",
    "                         \"orange juice\": 4, \"coffee\": 3.5, \"tea\": 3.25,\n",
    "                         \"ice cream\": 5.5}\n",
    "\n",
    "# The tax rate is 7%\n",
    "tax_rate = 0.07\n",
    "\n",
    "# Service charge is 6%\n",
    "service_charge = 0.06"
   ]
  },
  {
   "cell_type": "code",
   "execution_count": 2,
   "id": "b224609f",
   "metadata": {},
   "outputs": [],
   "source": [
    "# Specify restaurant details\n",
    "restaurant_name = 'KV Cafe'\n",
    "restaurant_year_established = 2023\n",
    "restaurant_city = 'Boston, MA'"
   ]
  },
  {
   "cell_type": "code",
   "execution_count": 3,
   "id": "ba042b49",
   "metadata": {},
   "outputs": [
    {
     "name": "stdout",
     "output_type": "stream",
     "text": [
      "Hello there! Please input your name so we can calculate your tab! kv\n"
     ]
    }
   ],
   "source": [
    "# Get customer name\n",
    "customer_name = input(\"Hello there! Please input your name so we can calculate your tab! \")"
   ]
  },
  {
   "cell_type": "code",
   "execution_count": 4,
   "id": "43bda40a",
   "metadata": {},
   "outputs": [
    {
     "name": "stdout",
     "output_type": "stream",
     "text": [
      "Hello kv!\n",
      "Welcome to KV Cafe, established in 2023 in Boston, MA\n",
      "------------------------------------------------------------\n",
      "what is the first item you ordered? fries\n",
      "what is the second item you ordered? pizza\n",
      "what is the third item you ordered? hth\n",
      "what is the third item you ordered? orange juice\n",
      "what is the fourth item you ordered? fried rice\n",
      "------------------------------------------------------------\n"
     ]
    }
   ],
   "source": [
    "# Display welcome message\n",
    "print(\"Hello {}!\\nWelcome to {}, established in {} in {}\".format(customer_name,\n",
    "                                                                restaurant_name,\n",
    "                                                                restaurant_year_established,\n",
    "                                                                restaurant_city))\n",
    "print(\"--\" *30)\n",
    "\n",
    "item_1 = ''\n",
    "item_2 = ''\n",
    "item_3 = ''\n",
    "item_4 = ''\n",
    "\n",
    "#Get the customer's order\n",
    "while item_1 not in restaurant_menu_prices.keys():\n",
    "    item_1 = input(\"what is the first item you ordered? \")\n",
    "    \n",
    "while item_2 not in restaurant_menu_prices.keys():\n",
    "    item_2 = input(\"what is the second item you ordered? \")\n",
    "\n",
    "while item_3 not in restaurant_menu_prices.keys():\n",
    "    item_3 = input(\"what is the third item you ordered? \")\n",
    "\n",
    "while item_4 not in restaurant_menu_prices.keys():\n",
    "    item_4 = input(\"what is the fourth item you ordered? \")\n",
    "\n",
    "print(\"--\" *30)"
   ]
  },
  {
   "cell_type": "code",
   "execution_count": 5,
   "id": "cf1ad487",
   "metadata": {},
   "outputs": [
    {
     "name": "stdout",
     "output_type": "stream",
     "text": [
      "What is your gift card value: 7.5\n",
      "What percentage would you like to tip? (15, 20, 25): 20\n"
     ]
    }
   ],
   "source": [
    "#Ask if the customer has a gift card\n",
    "gift_card_amount = float(input(\"What is your gift card value: \"))\n",
    "\n",
    "#Ask if the customer would like to add a tip amount\n",
    "tip_amount = float(input(\"What percentage would you like to tip? (15, 20, 25): \"))\n",
    "tip_amount = tip_amount/100"
   ]
  },
  {
   "cell_type": "code",
   "execution_count": 6,
   "id": "93d12731",
   "metadata": {},
   "outputs": [
    {
     "data": {
      "text/plain": [
       "0.2"
      ]
     },
     "execution_count": 6,
     "metadata": {},
     "output_type": "execute_result"
    }
   ],
   "source": [
    "tip_amount"
   ]
  },
  {
   "cell_type": "code",
   "execution_count": 9,
   "id": "6339e068",
   "metadata": {},
   "outputs": [
    {
     "name": "stdout",
     "output_type": "stream",
     "text": [
      "kv ordered the following items: ['fries', 'pizza', 'orange juice', 'fried rice', 'abcs']\n"
     ]
    }
   ],
   "source": [
    "#Store the customer's order as a list\n",
    "customer_order = [item_1, item_2, item_3, item_4, 'abcs']\n",
    "print(\"{} ordered the following items: {}\".format(customer_name, customer_order))"
   ]
  },
  {
   "cell_type": "code",
   "execution_count": 8,
   "id": "0dbd7122",
   "metadata": {},
   "outputs": [
    {
     "data": {
      "text/plain": [
       "dict_keys(['cheeseburger', 'fries', 'pizza', 'chicken sandwich', 'falafel', 'fried rice', 'orange juice', 'coffee', 'tea', 'ice cream'])"
      ]
     },
     "execution_count": 8,
     "metadata": {},
     "output_type": "execute_result"
    }
   ],
   "source": [
    "restaurant_menu_prices.keys()"
   ]
  },
  {
   "cell_type": "code",
   "execution_count": 10,
   "id": "782fccaa",
   "metadata": {},
   "outputs": [
    {
     "name": "stdout",
     "output_type": "stream",
     "text": [
      "Added fries to your tab!\n",
      "Added pizza to your tab!\n",
      "Added orange juice to your tab!\n",
      "Added fried rice to your tab!\n",
      "Error: The item: abcs is not on the menu!\n",
      "The total value of all ordered items is 34.5\n"
     ]
    }
   ],
   "source": [
    "#Initialize order total value to 0\n",
    "order_total = 0\n",
    "\n",
    "#Loop over each menu item in the customer's order\n",
    "for menu_item in customer_order:\n",
    "    \n",
    "    #Check if the item is in the restaurant's menu\n",
    "    if menu_item in restaurant_menu_prices.keys():\n",
    "        order_total += restaurant_menu_prices[menu_item] #Update the order total\n",
    "        print(\"Added {} to your tab!\".format(menu_item))\n",
    "    \n",
    "    #Print out the error message if the menu item doesn't exist\n",
    "    else:\n",
    "        print(\"Error: The item: {} is not on the menu!\".format(menu_item))\n",
    "        \n",
    "        \n",
    "print(\"The total value of all ordered items is {}\".format(order_total))"
   ]
  },
  {
   "cell_type": "markdown",
   "id": "0f9283fd",
   "metadata": {},
   "source": [
    "#### 1. Compute the final amount the customer owes\n",
    "The final amount the customer owes is the total value of their menu items + the percentage amounts of tax and service charge added. Once you add the gift card and tip amounts, you also need to factor those into the total amount owed."
   ]
  },
  {
   "cell_type": "code",
   "execution_count": 11,
   "id": "d53e120d",
   "metadata": {},
   "outputs": [
    {
     "name": "stdout",
     "output_type": "stream",
     "text": [
      "2.415 2.07 6.9\n"
     ]
    }
   ],
   "source": [
    "# Add code here to calculate the tab total\n",
    "tax = order_total*(tax_rate)\n",
    "svc = order_total*(service_charge)\n",
    "tip = order_total*(tip_amount)\n",
    "print(tax, svc, tip)"
   ]
  },
  {
   "cell_type": "code",
   "execution_count": 12,
   "id": "1fbc0e88",
   "metadata": {},
   "outputs": [
    {
     "name": "stdout",
     "output_type": "stream",
     "text": [
      "Your total restaurant tab amount is 38.38\n",
      "Thank you for visiting KV Cafe, we hope you enjoyed your meal!\n"
     ]
    }
   ],
   "source": [
    "tab_total = order_total + tax + svc + tip -gift_card_amount\n",
    "tab_total = round(tab_total, 2)\n",
    "\n",
    "print(\"Your total restaurant tab amount is {}\".format(tab_total))\n",
    "print(\"Thank you for visiting {}, we hope you enjoyed your meal!\".format(restaurant_name))"
   ]
  },
  {
   "cell_type": "code",
   "execution_count": null,
   "id": "d6296d89",
   "metadata": {},
   "outputs": [],
   "source": []
  },
  {
   "cell_type": "markdown",
   "id": "3df8a6bd",
   "metadata": {},
   "source": [
    "#### 2. Display an itemized receipt with all the different amounts on the tab."
   ]
  },
  {
   "cell_type": "code",
   "execution_count": 38,
   "id": "826a072c",
   "metadata": {},
   "outputs": [
    {
     "name": "stdout",
     "output_type": "stream",
     "text": [
      "------------------------\n",
      "   KV Cafe Receipt\n",
      "     Boston, MA \n",
      "    13 July 2023\n",
      "------------------------\n",
      "fries \t\t 5.50\n",
      "pizza \t\t 14.50\n",
      "orange juice \t 4.00\n",
      "fried rice \t 10.50\n",
      "------------------------\n",
      "Tax \t\t 2.42\n",
      "SVC \t\t 2.07\n",
      "Tip \t\t 6.90\n",
      "Gift Card \t -7.50\n",
      "------------------------\n",
      "Order Total \t 38.38\n",
      "------------------------\n"
     ]
    }
   ],
   "source": [
    "print(\"---\"*8)\n",
    "print(\"   {} Receipt\\n     {} \\n    13 July 2023\".format(restaurant_name, restaurant_city))\n",
    "print(\"---\"*8)\n",
    "print(\"{} \\t\\t {:.2f}\".format(item_1, restaurant_menu_prices[item_1]))\n",
    "print(\"{} \\t\\t {:.2f}\".format(item_2, restaurant_menu_prices[item_2]))\n",
    "print(\"{} \\t {:.2f}\".format(item_3, restaurant_menu_prices[item_3]))\n",
    "print(\"{} \\t {:.2f}\".format(item_4, restaurant_menu_prices[item_4]))\n",
    "print(\"---\"*8)\n",
    "print(\"Tax \\t\\t {:.2f}\".format(tax))\n",
    "print(\"SVC \\t\\t {:.2f}\".format(svc))\n",
    "print(\"Tip \\t\\t {:.2f}\".format(tip))\n",
    "print(\"Gift Card \\t -{:.2f}\".format(gift_card_amount))\n",
    "print(\"---\"*8)\n",
    "print(\"Order Total \\t {:.2f}\".format(tab_total))\n",
    "print(\"---\"*8)"
   ]
  },
  {
   "cell_type": "code",
   "execution_count": null,
   "id": "632aa639",
   "metadata": {},
   "outputs": [],
   "source": []
  }
 ],
 "metadata": {
  "kernelspec": {
   "display_name": "Python 3 (ipykernel)",
   "language": "python",
   "name": "python3"
  },
  "language_info": {
   "codemirror_mode": {
    "name": "ipython",
    "version": 3
   },
   "file_extension": ".py",
   "mimetype": "text/x-python",
   "name": "python",
   "nbconvert_exporter": "python",
   "pygments_lexer": "ipython3",
   "version": "3.9.-1"
  }
 },
 "nbformat": 4,
 "nbformat_minor": 5
}
